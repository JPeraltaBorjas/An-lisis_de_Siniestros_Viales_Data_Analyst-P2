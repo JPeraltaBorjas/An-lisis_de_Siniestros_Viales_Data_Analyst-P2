{
 "cells": [
  {
   "cell_type": "markdown",
   "metadata": {},
   "source": [
    "# EDA - Datasets de siniestros automovilísticos"
   ]
  },
  {
   "cell_type": "code",
   "execution_count": 1,
   "metadata": {},
   "outputs": [],
   "source": [
    "import pandas as pd\n",
    "import numpy as np\n",
    "import matplotlib.pyplot as plt\n",
    "import seaborn as sn"
   ]
  },
  {
   "cell_type": "markdown",
   "metadata": {},
   "source": [
    "## Dataset - HECHOS"
   ]
  },
  {
   "cell_type": "markdown",
   "metadata": {},
   "source": [
    "### Importación del dataset"
   ]
  },
  {
   "cell_type": "code",
   "execution_count": 41,
   "metadata": {},
   "outputs": [],
   "source": [
    "hechos = pd.read_csv('data/homicidios - HECHOS.csv')"
   ]
  },
  {
   "cell_type": "markdown",
   "metadata": {},
   "source": [
    "### Análisis del dataset"
   ]
  },
  {
   "cell_type": "code",
   "execution_count": 42,
   "metadata": {},
   "outputs": [
    {
     "data": {
      "text/html": [
       "<div>\n",
       "<style scoped>\n",
       "    .dataframe tbody tr th:only-of-type {\n",
       "        vertical-align: middle;\n",
       "    }\n",
       "\n",
       "    .dataframe tbody tr th {\n",
       "        vertical-align: top;\n",
       "    }\n",
       "\n",
       "    .dataframe thead th {\n",
       "        text-align: right;\n",
       "    }\n",
       "</style>\n",
       "<table border=\"1\" class=\"dataframe\">\n",
       "  <thead>\n",
       "    <tr style=\"text-align: right;\">\n",
       "      <th></th>\n",
       "      <th>ID</th>\n",
       "      <th>N_VICTIMAS</th>\n",
       "      <th>FECHA</th>\n",
       "      <th>AAAA</th>\n",
       "      <th>MM</th>\n",
       "      <th>DD</th>\n",
       "      <th>HORA</th>\n",
       "      <th>HH</th>\n",
       "      <th>LUGAR_DEL_HECHO</th>\n",
       "      <th>TIPO_DE_CALLE</th>\n",
       "      <th>...</th>\n",
       "      <th>Altura</th>\n",
       "      <th>Cruce</th>\n",
       "      <th>Dirección Normalizada</th>\n",
       "      <th>COMUNA</th>\n",
       "      <th>XY (CABA)</th>\n",
       "      <th>pos x</th>\n",
       "      <th>pos y</th>\n",
       "      <th>PARTICIPANTES</th>\n",
       "      <th>VICTIMA</th>\n",
       "      <th>ACUSADO</th>\n",
       "    </tr>\n",
       "  </thead>\n",
       "  <tbody>\n",
       "    <tr>\n",
       "      <th>0</th>\n",
       "      <td>2016-0001</td>\n",
       "      <td>1</td>\n",
       "      <td>1/1/2016</td>\n",
       "      <td>2016</td>\n",
       "      <td>1</td>\n",
       "      <td>1</td>\n",
       "      <td>4:00:00</td>\n",
       "      <td>4</td>\n",
       "      <td>AV PIEDRA BUENA Y AV FERNANDEZ DE LA CRUZ</td>\n",
       "      <td>AVENIDA</td>\n",
       "      <td>...</td>\n",
       "      <td>NaN</td>\n",
       "      <td>FERNANDEZ DE LA CRUZ, F., GRAL. AV.</td>\n",
       "      <td>PIEDRA BUENA AV. y FERNANDEZ DE LA CRUZ, F., G...</td>\n",
       "      <td>8</td>\n",
       "      <td>Point (98896.78238426 93532.43437792)</td>\n",
       "      <td>-58.47533969</td>\n",
       "      <td>-34.68757022</td>\n",
       "      <td>MOTO-AUTO</td>\n",
       "      <td>MOTO</td>\n",
       "      <td>AUTO</td>\n",
       "    </tr>\n",
       "    <tr>\n",
       "      <th>1</th>\n",
       "      <td>2016-0002</td>\n",
       "      <td>1</td>\n",
       "      <td>1/2/2016</td>\n",
       "      <td>2016</td>\n",
       "      <td>1</td>\n",
       "      <td>2</td>\n",
       "      <td>1:15:00</td>\n",
       "      <td>1</td>\n",
       "      <td>AV GRAL PAZ  Y AV DE LOS CORRALES</td>\n",
       "      <td>GRAL PAZ</td>\n",
       "      <td>...</td>\n",
       "      <td>NaN</td>\n",
       "      <td>DE LOS CORRALES AV.</td>\n",
       "      <td>PAZ, GRAL. AV. y DE LOS CORRALES AV.</td>\n",
       "      <td>9</td>\n",
       "      <td>Point (95832.05571093 95505.41641999)</td>\n",
       "      <td>-58.50877521</td>\n",
       "      <td>-34.66977709</td>\n",
       "      <td>AUTO-PASAJEROS</td>\n",
       "      <td>AUTO</td>\n",
       "      <td>PASAJEROS</td>\n",
       "    </tr>\n",
       "    <tr>\n",
       "      <th>2</th>\n",
       "      <td>2016-0003</td>\n",
       "      <td>1</td>\n",
       "      <td>1/3/2016</td>\n",
       "      <td>2016</td>\n",
       "      <td>1</td>\n",
       "      <td>3</td>\n",
       "      <td>7:00:00</td>\n",
       "      <td>7</td>\n",
       "      <td>AV ENTRE RIOS 2034</td>\n",
       "      <td>AVENIDA</td>\n",
       "      <td>...</td>\n",
       "      <td>2034.0</td>\n",
       "      <td>NaN</td>\n",
       "      <td>ENTRE RIOS AV. 2034</td>\n",
       "      <td>1</td>\n",
       "      <td>Point (106684.29090040 99706.57687843)</td>\n",
       "      <td>-58.39040293</td>\n",
       "      <td>-34.63189362</td>\n",
       "      <td>MOTO-AUTO</td>\n",
       "      <td>MOTO</td>\n",
       "      <td>AUTO</td>\n",
       "    </tr>\n",
       "    <tr>\n",
       "      <th>3</th>\n",
       "      <td>2016-0004</td>\n",
       "      <td>1</td>\n",
       "      <td>1/10/2016</td>\n",
       "      <td>2016</td>\n",
       "      <td>1</td>\n",
       "      <td>10</td>\n",
       "      <td>0:00:00</td>\n",
       "      <td>0</td>\n",
       "      <td>AV LARRAZABAL Y GRAL VILLEGAS CONRADO</td>\n",
       "      <td>AVENIDA</td>\n",
       "      <td>...</td>\n",
       "      <td>NaN</td>\n",
       "      <td>VILLEGAS, CONRADO, GRAL.</td>\n",
       "      <td>LARRAZABAL AV. y VILLEGAS, CONRADO, GRAL.</td>\n",
       "      <td>8</td>\n",
       "      <td>Point (99840.65224780 94269.16534422)</td>\n",
       "      <td>-58.46503904</td>\n",
       "      <td>-34.68092974</td>\n",
       "      <td>MOTO-SD</td>\n",
       "      <td>MOTO</td>\n",
       "      <td>SD</td>\n",
       "    </tr>\n",
       "    <tr>\n",
       "      <th>4</th>\n",
       "      <td>2016-0005</td>\n",
       "      <td>1</td>\n",
       "      <td>1/21/2016</td>\n",
       "      <td>2016</td>\n",
       "      <td>1</td>\n",
       "      <td>21</td>\n",
       "      <td>5:20:00</td>\n",
       "      <td>5</td>\n",
       "      <td>AV SAN JUAN Y PRESIDENTE LUIS SAENZ PEÑA</td>\n",
       "      <td>AVENIDA</td>\n",
       "      <td>...</td>\n",
       "      <td>NaN</td>\n",
       "      <td>SAENZ PE?A, LUIS, PRES.</td>\n",
       "      <td>SAN JUAN AV. y SAENZ PEÃ‘A, LUIS, PRES.</td>\n",
       "      <td>1</td>\n",
       "      <td>Point (106980.32827929 100752.16915795)</td>\n",
       "      <td>-58.38718297</td>\n",
       "      <td>-34.62246630</td>\n",
       "      <td>MOTO-PASAJEROS</td>\n",
       "      <td>MOTO</td>\n",
       "      <td>PASAJEROS</td>\n",
       "    </tr>\n",
       "    <tr>\n",
       "      <th>...</th>\n",
       "      <td>...</td>\n",
       "      <td>...</td>\n",
       "      <td>...</td>\n",
       "      <td>...</td>\n",
       "      <td>...</td>\n",
       "      <td>...</td>\n",
       "      <td>...</td>\n",
       "      <td>...</td>\n",
       "      <td>...</td>\n",
       "      <td>...</td>\n",
       "      <td>...</td>\n",
       "      <td>...</td>\n",
       "      <td>...</td>\n",
       "      <td>...</td>\n",
       "      <td>...</td>\n",
       "      <td>...</td>\n",
       "      <td>...</td>\n",
       "      <td>...</td>\n",
       "      <td>...</td>\n",
       "      <td>...</td>\n",
       "      <td>...</td>\n",
       "    </tr>\n",
       "    <tr>\n",
       "      <th>691</th>\n",
       "      <td>2021-0093</td>\n",
       "      <td>1</td>\n",
       "      <td>12/13/2021</td>\n",
       "      <td>2021</td>\n",
       "      <td>12</td>\n",
       "      <td>13</td>\n",
       "      <td>17:10:00</td>\n",
       "      <td>17</td>\n",
       "      <td>AV. RIESTRA Y MOM</td>\n",
       "      <td>AVENIDA</td>\n",
       "      <td>...</td>\n",
       "      <td>NaN</td>\n",
       "      <td>MOM</td>\n",
       "      <td>RIESTRA AV. y MOM</td>\n",
       "      <td>7</td>\n",
       "      <td>Point (102728.60090138 98186.24929177)</td>\n",
       "      <td>-58.43353773</td>\n",
       "      <td>-34.64561636</td>\n",
       "      <td>MOTO-AUTO</td>\n",
       "      <td>MOTO</td>\n",
       "      <td>AUTO</td>\n",
       "    </tr>\n",
       "    <tr>\n",
       "      <th>692</th>\n",
       "      <td>2021-0094</td>\n",
       "      <td>1</td>\n",
       "      <td>12/20/2021</td>\n",
       "      <td>2021</td>\n",
       "      <td>12</td>\n",
       "      <td>20</td>\n",
       "      <td>1:10:00</td>\n",
       "      <td>1</td>\n",
       "      <td>AU DELLEPIANE Y LACARRA</td>\n",
       "      <td>AUTOPISTA</td>\n",
       "      <td>...</td>\n",
       "      <td>NaN</td>\n",
       "      <td>LACARRA AV.</td>\n",
       "      <td>DELLEPIANE, LUIS, TTE. GRAL. y LACARRA AV.</td>\n",
       "      <td>9</td>\n",
       "      <td>Point (99624.29795829 97569.69801131)</td>\n",
       "      <td>-58.46739825</td>\n",
       "      <td>-34.65117757</td>\n",
       "      <td>MOTO-AUTO</td>\n",
       "      <td>MOTO</td>\n",
       "      <td>AUTO</td>\n",
       "    </tr>\n",
       "    <tr>\n",
       "      <th>693</th>\n",
       "      <td>2021-0095</td>\n",
       "      <td>1</td>\n",
       "      <td>12/30/2021</td>\n",
       "      <td>2021</td>\n",
       "      <td>12</td>\n",
       "      <td>30</td>\n",
       "      <td>0:43:00</td>\n",
       "      <td>0</td>\n",
       "      <td>AV. GAONA Y TERRADA</td>\n",
       "      <td>AVENIDA</td>\n",
       "      <td>...</td>\n",
       "      <td>NaN</td>\n",
       "      <td>TERRADA</td>\n",
       "      <td>GAONA AV. y TERRADA</td>\n",
       "      <td>11</td>\n",
       "      <td>Point (99116.45492358 101045.23284826)</td>\n",
       "      <td>-58.47293407</td>\n",
       "      <td>-34.61984745</td>\n",
       "      <td>MOTO-CARGAS</td>\n",
       "      <td>MOTO</td>\n",
       "      <td>CARGAS</td>\n",
       "    </tr>\n",
       "    <tr>\n",
       "      <th>694</th>\n",
       "      <td>2021-0096</td>\n",
       "      <td>1</td>\n",
       "      <td>12/15/2021</td>\n",
       "      <td>2021</td>\n",
       "      <td>12</td>\n",
       "      <td>15</td>\n",
       "      <td>10:30:00</td>\n",
       "      <td>10</td>\n",
       "      <td>AV. EVA PERON 4071</td>\n",
       "      <td>AVENIDA</td>\n",
       "      <td>...</td>\n",
       "      <td>4071.0</td>\n",
       "      <td>NaN</td>\n",
       "      <td>PERON, EVA AV. 4071</td>\n",
       "      <td>9</td>\n",
       "      <td>Point (99324.54463985 97676.26932409)</td>\n",
       "      <td>-58.47066794</td>\n",
       "      <td>-34.65021673</td>\n",
       "      <td>AUTO-CARGAS</td>\n",
       "      <td>AUTO</td>\n",
       "      <td>CARGAS</td>\n",
       "    </tr>\n",
       "    <tr>\n",
       "      <th>695</th>\n",
       "      <td>2021-0097</td>\n",
       "      <td>1</td>\n",
       "      <td>11/18/2021</td>\n",
       "      <td>2021</td>\n",
       "      <td>11</td>\n",
       "      <td>18</td>\n",
       "      <td>6:10:00</td>\n",
       "      <td>6</td>\n",
       "      <td>PADRE CARLOS MUJICA 709</td>\n",
       "      <td>CALLE</td>\n",
       "      <td>...</td>\n",
       "      <td>709.0</td>\n",
       "      <td>NaN</td>\n",
       "      <td>PADRE CARLOS MUGICA 709</td>\n",
       "      <td>1</td>\n",
       "      <td>Point (107664.16647795 104708.63962087)</td>\n",
       "      <td>-58.37976155</td>\n",
       "      <td>-34.58679619</td>\n",
       "      <td>BICICLETA-AUTO</td>\n",
       "      <td>BICICLETA</td>\n",
       "      <td>AUTO</td>\n",
       "    </tr>\n",
       "  </tbody>\n",
       "</table>\n",
       "<p>696 rows × 21 columns</p>\n",
       "</div>"
      ],
      "text/plain": [
       "            ID  N_VICTIMAS       FECHA  AAAA  MM  DD      HORA  HH  \\\n",
       "0    2016-0001           1    1/1/2016  2016   1   1   4:00:00   4   \n",
       "1    2016-0002           1    1/2/2016  2016   1   2   1:15:00   1   \n",
       "2    2016-0003           1    1/3/2016  2016   1   3   7:00:00   7   \n",
       "3    2016-0004           1   1/10/2016  2016   1  10   0:00:00   0   \n",
       "4    2016-0005           1   1/21/2016  2016   1  21   5:20:00   5   \n",
       "..         ...         ...         ...   ...  ..  ..       ...  ..   \n",
       "691  2021-0093           1  12/13/2021  2021  12  13  17:10:00  17   \n",
       "692  2021-0094           1  12/20/2021  2021  12  20   1:10:00   1   \n",
       "693  2021-0095           1  12/30/2021  2021  12  30   0:43:00   0   \n",
       "694  2021-0096           1  12/15/2021  2021  12  15  10:30:00  10   \n",
       "695  2021-0097           1  11/18/2021  2021  11  18   6:10:00   6   \n",
       "\n",
       "                               LUGAR_DEL_HECHO TIPO_DE_CALLE  ...  Altura  \\\n",
       "0    AV PIEDRA BUENA Y AV FERNANDEZ DE LA CRUZ       AVENIDA  ...     NaN   \n",
       "1            AV GRAL PAZ  Y AV DE LOS CORRALES      GRAL PAZ  ...     NaN   \n",
       "2                           AV ENTRE RIOS 2034       AVENIDA  ...  2034.0   \n",
       "3        AV LARRAZABAL Y GRAL VILLEGAS CONRADO       AVENIDA  ...     NaN   \n",
       "4    AV SAN JUAN Y PRESIDENTE LUIS SAENZ PEÑA        AVENIDA  ...     NaN   \n",
       "..                                         ...           ...  ...     ...   \n",
       "691                          AV. RIESTRA Y MOM       AVENIDA  ...     NaN   \n",
       "692                    AU DELLEPIANE Y LACARRA     AUTOPISTA  ...     NaN   \n",
       "693                        AV. GAONA Y TERRADA       AVENIDA  ...     NaN   \n",
       "694                         AV. EVA PERON 4071       AVENIDA  ...  4071.0   \n",
       "695                    PADRE CARLOS MUJICA 709         CALLE  ...   709.0   \n",
       "\n",
       "                                   Cruce  \\\n",
       "0    FERNANDEZ DE LA CRUZ, F., GRAL. AV.   \n",
       "1                    DE LOS CORRALES AV.   \n",
       "2                                    NaN   \n",
       "3               VILLEGAS, CONRADO, GRAL.   \n",
       "4                SAENZ PE?A, LUIS, PRES.   \n",
       "..                                   ...   \n",
       "691                                  MOM   \n",
       "692                          LACARRA AV.   \n",
       "693                              TERRADA   \n",
       "694                                  NaN   \n",
       "695                                  NaN   \n",
       "\n",
       "                                 Dirección Normalizada COMUNA  \\\n",
       "0    PIEDRA BUENA AV. y FERNANDEZ DE LA CRUZ, F., G...      8   \n",
       "1                 PAZ, GRAL. AV. y DE LOS CORRALES AV.      9   \n",
       "2                                  ENTRE RIOS AV. 2034      1   \n",
       "3            LARRAZABAL AV. y VILLEGAS, CONRADO, GRAL.      8   \n",
       "4              SAN JUAN AV. y SAENZ PEÃ‘A, LUIS, PRES.      1   \n",
       "..                                                 ...    ...   \n",
       "691                                  RIESTRA AV. y MOM      7   \n",
       "692         DELLEPIANE, LUIS, TTE. GRAL. y LACARRA AV.      9   \n",
       "693                                GAONA AV. y TERRADA     11   \n",
       "694                                PERON, EVA AV. 4071      9   \n",
       "695                            PADRE CARLOS MUGICA 709      1   \n",
       "\n",
       "                                   XY (CABA)         pos x         pos y  \\\n",
       "0      Point (98896.78238426 93532.43437792)  -58.47533969  -34.68757022   \n",
       "1      Point (95832.05571093 95505.41641999)  -58.50877521  -34.66977709   \n",
       "2     Point (106684.29090040 99706.57687843)  -58.39040293  -34.63189362   \n",
       "3      Point (99840.65224780 94269.16534422)  -58.46503904  -34.68092974   \n",
       "4    Point (106980.32827929 100752.16915795)  -58.38718297  -34.62246630   \n",
       "..                                       ...           ...           ...   \n",
       "691   Point (102728.60090138 98186.24929177)  -58.43353773  -34.64561636   \n",
       "692    Point (99624.29795829 97569.69801131)  -58.46739825  -34.65117757   \n",
       "693   Point (99116.45492358 101045.23284826)  -58.47293407  -34.61984745   \n",
       "694    Point (99324.54463985 97676.26932409)  -58.47066794  -34.65021673   \n",
       "695  Point (107664.16647795 104708.63962087)  -58.37976155  -34.58679619   \n",
       "\n",
       "      PARTICIPANTES    VICTIMA    ACUSADO  \n",
       "0         MOTO-AUTO       MOTO       AUTO  \n",
       "1    AUTO-PASAJEROS       AUTO  PASAJEROS  \n",
       "2         MOTO-AUTO       MOTO       AUTO  \n",
       "3           MOTO-SD       MOTO         SD  \n",
       "4    MOTO-PASAJEROS       MOTO  PASAJEROS  \n",
       "..              ...        ...        ...  \n",
       "691       MOTO-AUTO       MOTO       AUTO  \n",
       "692       MOTO-AUTO       MOTO       AUTO  \n",
       "693     MOTO-CARGAS       MOTO     CARGAS  \n",
       "694     AUTO-CARGAS       AUTO     CARGAS  \n",
       "695  BICICLETA-AUTO  BICICLETA       AUTO  \n",
       "\n",
       "[696 rows x 21 columns]"
      ]
     },
     "execution_count": 42,
     "metadata": {},
     "output_type": "execute_result"
    }
   ],
   "source": [
    "# Se ve una muestra del dataset\n",
    "hechos"
   ]
  },
  {
   "cell_type": "code",
   "execution_count": 43,
   "metadata": {},
   "outputs": [
    {
     "name": "stdout",
     "output_type": "stream",
     "text": [
      "<class 'pandas.core.frame.DataFrame'>\n",
      "RangeIndex: 696 entries, 0 to 695\n",
      "Data columns (total 21 columns):\n",
      " #   Column                 Non-Null Count  Dtype  \n",
      "---  ------                 --------------  -----  \n",
      " 0   ID                     696 non-null    object \n",
      " 1   N_VICTIMAS             696 non-null    int64  \n",
      " 2   FECHA                  696 non-null    object \n",
      " 3   AAAA                   696 non-null    int64  \n",
      " 4   MM                     696 non-null    int64  \n",
      " 5   DD                     696 non-null    int64  \n",
      " 6   HORA                   696 non-null    object \n",
      " 7   HH                     696 non-null    object \n",
      " 8   LUGAR_DEL_HECHO        696 non-null    object \n",
      " 9   TIPO_DE_CALLE          696 non-null    object \n",
      " 10  Calle                  695 non-null    object \n",
      " 11  Altura                 129 non-null    float64\n",
      " 12  Cruce                  525 non-null    object \n",
      " 13  Dirección Normalizada  688 non-null    object \n",
      " 14  COMUNA                 696 non-null    int64  \n",
      " 15  XY (CABA)              696 non-null    object \n",
      " 16  pos x                  696 non-null    object \n",
      " 17  pos y                  696 non-null    object \n",
      " 18  PARTICIPANTES          696 non-null    object \n",
      " 19  VICTIMA                696 non-null    object \n",
      " 20  ACUSADO                696 non-null    object \n",
      "dtypes: float64(1), int64(5), object(15)\n",
      "memory usage: 114.3+ KB\n"
     ]
    }
   ],
   "source": [
    "hechos.info()"
   ]
  },
  {
   "cell_type": "code",
   "execution_count": 44,
   "metadata": {},
   "outputs": [
    {
     "data": {
      "text/plain": [
       "ID                         0\n",
       "N_VICTIMAS                 0\n",
       "FECHA                      0\n",
       "AAAA                       0\n",
       "MM                         0\n",
       "DD                         0\n",
       "HORA                       0\n",
       "HH                         0\n",
       "LUGAR_DEL_HECHO            0\n",
       "TIPO_DE_CALLE              0\n",
       "Calle                      1\n",
       "Altura                   567\n",
       "Cruce                    171\n",
       "Dirección Normalizada      8\n",
       "COMUNA                     0\n",
       "XY (CABA)                  0\n",
       "pos x                      0\n",
       "pos y                      0\n",
       "PARTICIPANTES              0\n",
       "VICTIMA                    0\n",
       "ACUSADO                    0\n",
       "dtype: int64"
      ]
     },
     "execution_count": 44,
     "metadata": {},
     "output_type": "execute_result"
    }
   ],
   "source": [
    "# Cantidad de nulos por columna\n",
    "hechos.isnull().sum()"
   ]
  },
  {
   "cell_type": "markdown",
   "metadata": {},
   "source": [
    "Cambio de nombre a las columnas"
   ]
  },
  {
   "cell_type": "code",
   "execution_count": 45,
   "metadata": {},
   "outputs": [
    {
     "data": {
      "text/plain": [
       "Index(['ID', 'N_VICTIMAS', 'FECHA', 'AAAA', 'MM', 'DD', 'HORA', 'HH',\n",
       "       'LUGAR_DEL_HECHO', 'TIPO_DE_CALLE', 'Calle', 'Altura', 'Cruce',\n",
       "       'Dirección Normalizada', 'COMUNA', 'XY (CABA)', 'pos x', 'pos y',\n",
       "       'PARTICIPANTES', 'VICTIMA', 'ACUSADO'],\n",
       "      dtype='object')"
      ]
     },
     "execution_count": 45,
     "metadata": {},
     "output_type": "execute_result"
    }
   ],
   "source": [
    "# Se ve el numero de columnas que contiene\n",
    "hechos.columns"
   ]
  },
  {
   "cell_type": "code",
   "execution_count": 46,
   "metadata": {},
   "outputs": [],
   "source": [
    "# Se reemplazan las columnas por el nombre correcto\n",
    "hechos.columns = ['ID_HECHO', 'NUM_VICTIMAS', 'FECHA', 'AÑO', 'MES', 'DÍA', 'HORA', 'HH',\n",
    "       'LUGAR_DEL_HECHO', 'TIPO_DE_CALLE', 'CALLE', 'ALTURA', 'CRUCE',\n",
    "       'DIRECCION_NORMALIZADA', 'COMUNA', 'XY (CABA)', 'POS X', 'POS Y',\n",
    "       'PARTICIPANTES', 'VICTIMA', 'ACUSADO']"
   ]
  },
  {
   "cell_type": "markdown",
   "metadata": {},
   "source": [
    "Verificación de la altura y la longitud"
   ]
  },
  {
   "cell_type": "code",
   "execution_count": 47,
   "metadata": {},
   "outputs": [
    {
     "data": {
      "text/plain": [
       "0"
      ]
     },
     "execution_count": 47,
     "metadata": {},
     "output_type": "execute_result"
    }
   ],
   "source": [
    "hechos['POS X'].isnull().sum()\n",
    "# No hay nulos"
   ]
  },
  {
   "cell_type": "code",
   "execution_count": 48,
   "metadata": {},
   "outputs": [
    {
     "data": {
      "text/plain": [
       "POS Y\n",
       ".               12\n",
       "-34.68475866     5\n",
       "-34.54979510     4\n",
       "-34.53476874     4\n",
       "-34.66977709     4\n",
       "                ..\n",
       "-34.58498660     1\n",
       "-34.59573848     1\n",
       "-34.63997430     1\n",
       "-34.64234110     1\n",
       "-34.58679619     1\n",
       "Name: count, Length: 605, dtype: int64"
      ]
     },
     "execution_count": 48,
     "metadata": {},
     "output_type": "execute_result"
    }
   ],
   "source": [
    "hechos['POS X'].value_counts()\n",
    "hechos['POS Y'].value_counts()\n",
    "\n",
    "# Existen 12 valores con el caracter '.' en la columna"
   ]
  },
  {
   "cell_type": "code",
   "execution_count": 49,
   "metadata": {},
   "outputs": [
    {
     "data": {
      "text/html": [
       "<div>\n",
       "<style scoped>\n",
       "    .dataframe tbody tr th:only-of-type {\n",
       "        vertical-align: middle;\n",
       "    }\n",
       "\n",
       "    .dataframe tbody tr th {\n",
       "        vertical-align: top;\n",
       "    }\n",
       "\n",
       "    .dataframe thead th {\n",
       "        text-align: right;\n",
       "    }\n",
       "</style>\n",
       "<table border=\"1\" class=\"dataframe\">\n",
       "  <thead>\n",
       "    <tr style=\"text-align: right;\">\n",
       "      <th></th>\n",
       "      <th>ID_HECHO</th>\n",
       "      <th>NUM_VICTIMAS</th>\n",
       "      <th>FECHA</th>\n",
       "      <th>AÑO</th>\n",
       "      <th>MES</th>\n",
       "      <th>DÍA</th>\n",
       "      <th>HORA</th>\n",
       "      <th>HH</th>\n",
       "      <th>LUGAR_DEL_HECHO</th>\n",
       "      <th>TIPO_DE_CALLE</th>\n",
       "      <th>...</th>\n",
       "      <th>ALTURA</th>\n",
       "      <th>CRUCE</th>\n",
       "      <th>DIRECCION_NORMALIZADA</th>\n",
       "      <th>COMUNA</th>\n",
       "      <th>XY (CABA)</th>\n",
       "      <th>POS X</th>\n",
       "      <th>POS Y</th>\n",
       "      <th>PARTICIPANTES</th>\n",
       "      <th>VICTIMA</th>\n",
       "      <th>ACUSADO</th>\n",
       "    </tr>\n",
       "  </thead>\n",
       "  <tbody>\n",
       "  </tbody>\n",
       "</table>\n",
       "<p>0 rows × 21 columns</p>\n",
       "</div>"
      ],
      "text/plain": [
       "Empty DataFrame\n",
       "Columns: [ID_HECHO, NUM_VICTIMAS, FECHA, AÑO, MES, DÍA, HORA, HH, LUGAR_DEL_HECHO, TIPO_DE_CALLE, CALLE, ALTURA, CRUCE, DIRECCION_NORMALIZADA, COMUNA, XY (CABA), POS X, POS Y, PARTICIPANTES, VICTIMA, ACUSADO]\n",
       "Index: []\n",
       "\n",
       "[0 rows x 21 columns]"
      ]
     },
     "execution_count": 49,
     "metadata": {},
     "output_type": "execute_result"
    }
   ],
   "source": [
    "# Se verifican los datos\n",
    "condicion = hechos['POS X'] == 0.0\n",
    "hechos[condicion]"
   ]
  },
  {
   "cell_type": "code",
   "execution_count": 50,
   "metadata": {},
   "outputs": [],
   "source": [
    "# Se realiza la normalización de los datos en POS X y POS Y\n",
    "hechos['POS X']=hechos['POS X'].replace('.',0.0)\n",
    "hechos['POS Y']=hechos['POS Y'].replace('.',0.0)"
   ]
  },
  {
   "cell_type": "code",
   "execution_count": 51,
   "metadata": {},
   "outputs": [],
   "source": [
    "# Cambiamos el tipo de dato de las columnas\n",
    "hechos['POS X']=hechos['POS X'].astype(float)\n",
    "hechos['POS Y']=hechos['POS Y'].astype(float)"
   ]
  },
  {
   "cell_type": "markdown",
   "metadata": {},
   "source": [
    "Verificación de la Altura, Cruce y Direccion normalizada"
   ]
  },
  {
   "cell_type": "code",
   "execution_count": 53,
   "metadata": {},
   "outputs": [
    {
     "name": "stdout",
     "output_type": "stream",
     "text": [
      "Cantidad de nulos en ALTURA: 567\n",
      "Cantidad de nulos en CRUCE: 171\n",
      "Cantidad de nulos en DIRECCION NORMALIZADA: 8\n"
     ]
    }
   ],
   "source": [
    "print('Cantidad de nulos en ALTURA:', hechos.ALTURA.isnull().sum())\n",
    "print('Cantidad de nulos en CRUCE:', hechos.CRUCE.isnull().sum())\n",
    "print('Cantidad de nulos en DIRECCION NORMALIZADA:', hechos['DIRECCION_NORMALIZADA'].isnull().sum())"
   ]
  },
  {
   "cell_type": "code",
   "execution_count": 54,
   "metadata": {},
   "outputs": [
    {
     "name": "stderr",
     "output_type": "stream",
     "text": [
      "C:\\Users\\JAY\\AppData\\Local\\Temp\\ipykernel_1040\\222826964.py:3: FutureWarning: A value is trying to be set on a copy of a DataFrame or Series through chained assignment using an inplace method.\n",
      "The behavior will change in pandas 3.0. This inplace method will never work because the intermediate object on which we are setting values always behaves as a copy.\n",
      "\n",
      "For example, when doing 'df[col].method(value, inplace=True)', try using 'df.method({col: value}, inplace=True)' or df[col] = df[col].method(value) instead, to perform the operation inplace on the original object.\n",
      "\n",
      "\n",
      "  hechos.ALTURA.fillna('Sin Altura', inplace=True)\n",
      "C:\\Users\\JAY\\AppData\\Local\\Temp\\ipykernel_1040\\222826964.py:3: FutureWarning: Setting an item of incompatible dtype is deprecated and will raise an error in a future version of pandas. Value 'Sin Altura' has dtype incompatible with float64, please explicitly cast to a compatible dtype first.\n",
      "  hechos.ALTURA.fillna('Sin Altura', inplace=True)\n",
      "C:\\Users\\JAY\\AppData\\Local\\Temp\\ipykernel_1040\\222826964.py:4: FutureWarning: A value is trying to be set on a copy of a DataFrame or Series through chained assignment using an inplace method.\n",
      "The behavior will change in pandas 3.0. This inplace method will never work because the intermediate object on which we are setting values always behaves as a copy.\n",
      "\n",
      "For example, when doing 'df[col].method(value, inplace=True)', try using 'df.method({col: value}, inplace=True)' or df[col] = df[col].method(value) instead, to perform the operation inplace on the original object.\n",
      "\n",
      "\n",
      "  hechos.CRUCE.fillna('Sin Cruce', inplace=True)\n",
      "C:\\Users\\JAY\\AppData\\Local\\Temp\\ipykernel_1040\\222826964.py:5: FutureWarning: A value is trying to be set on a copy of a DataFrame or Series through chained assignment using an inplace method.\n",
      "The behavior will change in pandas 3.0. This inplace method will never work because the intermediate object on which we are setting values always behaves as a copy.\n",
      "\n",
      "For example, when doing 'df[col].method(value, inplace=True)', try using 'df.method({col: value}, inplace=True)' or df[col] = df[col].method(value) instead, to perform the operation inplace on the original object.\n",
      "\n",
      "\n",
      "  hechos['DIRECCION_NORMALIZADA'].fillna('Sin Dirección', inplace=True)\n"
     ]
    }
   ],
   "source": [
    "# Imputamos los datos nulos con valores 'Sin Altura', 'Sin Cruce' y 'Sin Direccion'\n",
    "# Se elimina la columna XY (CABA)\n",
    "hechos.ALTURA.fillna('Sin Altura', inplace=True)\n",
    "hechos.CRUCE.fillna('Sin Cruce', inplace=True)\n",
    "hechos['DIRECCION_NORMALIZADA'].fillna('Sin Dirección', inplace=True)\n",
    "hechos.drop(columns=['XY (CABA)'],inplace=True)"
   ]
  },
  {
   "cell_type": "markdown",
   "metadata": {},
   "source": [
    "También podemos verificar la columna CALLE"
   ]
  },
  {
   "cell_type": "code",
   "execution_count": 56,
   "metadata": {},
   "outputs": [],
   "source": [
    "hechos[hechos.CALLE.isnull()]\n",
    "# Se observa un registro que tiene como LUGAR DEL HECHO -> SD\n",
    "# Entonces para saber cuantos hay con SD se realiza la 'condicion_1'\n",
    "condicion_1 = hechos['LUGAR_DEL_HECHO'] == 'SD'\n",
    "hechos[condicion_1]\n",
    "\n",
    "# solo se muestra un registro con LUGAR DE HECHO -> SD\n",
    "# Se verifica tambien en el DataFrame con ID del hecho '2016-0151'\n",
    "hechos.drop(index=119,inplace=True)\n",
    "hechos.reset_index(drop=True,inplace=True)"
   ]
  },
  {
   "cell_type": "code",
   "execution_count": 26,
   "metadata": {},
   "outputs": [
    {
     "data": {
      "text/plain": [
       "ID_HECHO                                             2016-0152\n",
       "NUM_VICTIMAS                                                 1\n",
       "FECHA                                               11/23/2016\n",
       "AÑO                                                       2016\n",
       "MES                                                         11\n",
       "DÍA                                                         23\n",
       "HORA                                                  21:10:00\n",
       "HH                                                          21\n",
       "LUGAR_DEL_HECHO                     AV PERITO MORENO Y ZUVIRIA\n",
       "TIPO_DE_CALLE                                          AVENIDA\n",
       "CALLE                                       MORENO, PERITO AV.\n",
       "ALTURA                                              Sin Altura\n",
       "CRUCE                                                  ZUVIRIA\n",
       "DIRECCION_NORMALIZADA             MORENO, PERITO AV. y ZUVIRIA\n",
       "COMUNA                                                       7\n",
       "XY (CABA)                Point (99888.30162107 97709.27452060)\n",
       "POS X                                               -58.464518\n",
       "POS Y                                               -34.649919\n",
       "PARTICIPANTES                                        MOTO-AUTO\n",
       "VICTIMA                                                   MOTO\n",
       "ACUSADO                                                   AUTO\n",
       "Name: 119, dtype: object"
      ]
     },
     "execution_count": 26,
     "metadata": {},
     "output_type": "execute_result"
    }
   ],
   "source": [
    "hechos.iloc[119,:]"
   ]
  },
  {
   "cell_type": "markdown",
   "metadata": {},
   "source": [
    "Se verifica la cantidad de comunas que existen"
   ]
  },
  {
   "cell_type": "code",
   "execution_count": 28,
   "metadata": {},
   "outputs": [
    {
     "data": {
      "text/plain": [
       "<Axes: ylabel='COMUNA'>"
      ]
     },
     "execution_count": 28,
     "metadata": {},
     "output_type": "execute_result"
    },
    {
     "data": {
      "image/png": "[encoded data removed]",
      "text/plain": [
       "<Figure size 640x480 with 1 Axes>"
      ]
     },
     "metadata": {},
     "output_type": "display_data"
    }
   ],
   "source": [
    "# Se verifica por medio de un gráfico la comunas que existen\n",
    "hechos.COMUNA.value_counts().plot.barh()"
   ]
  },
  {
   "cell_type": "code",
   "execution_count": 58,
   "metadata": {},
   "outputs": [],
   "source": [
    "# Se ve que hay una comuna 0, cosa que no hay en la ciudad de Buenos Aires\n",
    "# Verificamos todos los registros con comuna 0\n",
    "condicion_comuna = hechos.COMUNA == 0\n",
    "hechos[condicion_comuna]\n",
    "\n",
    "# Al verificar que este registro no nos será util por la falta de información, se procede a eliminarse\n",
    "hechos.drop(index=138,inplace=True)\n",
    "hechos.reset_index(drop=True,inplace=True)"
   ]
  },
  {
   "cell_type": "markdown",
   "metadata": {},
   "source": [
    "Se verifica si existen fechas atipicas"
   ]
  },
  {
   "cell_type": "code",
   "execution_count": 59,
   "metadata": {},
   "outputs": [
    {
     "data": {
      "text/html": [
       "<div>\n",
       "<style scoped>\n",
       "    .dataframe tbody tr th:only-of-type {\n",
       "        vertical-align: middle;\n",
       "    }\n",
       "\n",
       "    .dataframe tbody tr th {\n",
       "        vertical-align: top;\n",
       "    }\n",
       "\n",
       "    .dataframe thead th {\n",
       "        text-align: right;\n",
       "    }\n",
       "</style>\n",
       "<table border=\"1\" class=\"dataframe\">\n",
       "  <thead>\n",
       "    <tr style=\"text-align: right;\">\n",
       "      <th></th>\n",
       "      <th>NUM_VICTIMAS</th>\n",
       "      <th>AÑO</th>\n",
       "      <th>MES</th>\n",
       "      <th>DÍA</th>\n",
       "      <th>COMUNA</th>\n",
       "      <th>POS X</th>\n",
       "      <th>POS Y</th>\n",
       "    </tr>\n",
       "  </thead>\n",
       "  <tbody>\n",
       "    <tr>\n",
       "      <th>count</th>\n",
       "      <td>694.000000</td>\n",
       "      <td>694.000000</td>\n",
       "      <td>694.000000</td>\n",
       "      <td>694.000000</td>\n",
       "      <td>694.000000</td>\n",
       "      <td>694.000000</td>\n",
       "      <td>694.000000</td>\n",
       "    </tr>\n",
       "    <tr>\n",
       "      <th>mean</th>\n",
       "      <td>1.030259</td>\n",
       "      <td>2018.194524</td>\n",
       "      <td>6.678674</td>\n",
       "      <td>15.917867</td>\n",
       "      <td>7.446686</td>\n",
       "      <td>-57.599448</td>\n",
       "      <td>-34.120790</td>\n",
       "    </tr>\n",
       "    <tr>\n",
       "      <th>std</th>\n",
       "      <td>0.179644</td>\n",
       "      <td>1.682067</td>\n",
       "      <td>3.566993</td>\n",
       "      <td>8.641515</td>\n",
       "      <td>4.375177</td>\n",
       "      <td>6.969679</td>\n",
       "      <td>4.128761</td>\n",
       "    </tr>\n",
       "    <tr>\n",
       "      <th>min</th>\n",
       "      <td>1.000000</td>\n",
       "      <td>2016.000000</td>\n",
       "      <td>1.000000</td>\n",
       "      <td>1.000000</td>\n",
       "      <td>1.000000</td>\n",
       "      <td>-58.529942</td>\n",
       "      <td>-34.705250</td>\n",
       "    </tr>\n",
       "    <tr>\n",
       "      <th>25%</th>\n",
       "      <td>1.000000</td>\n",
       "      <td>2017.000000</td>\n",
       "      <td>4.000000</td>\n",
       "      <td>9.000000</td>\n",
       "      <td>4.000000</td>\n",
       "      <td>-58.475701</td>\n",
       "      <td>-34.643537</td>\n",
       "    </tr>\n",
       "    <tr>\n",
       "      <th>50%</th>\n",
       "      <td>1.000000</td>\n",
       "      <td>2018.000000</td>\n",
       "      <td>7.000000</td>\n",
       "      <td>16.000000</td>\n",
       "      <td>8.000000</td>\n",
       "      <td>-58.443654</td>\n",
       "      <td>-34.622535</td>\n",
       "    </tr>\n",
       "    <tr>\n",
       "      <th>75%</th>\n",
       "      <td>1.000000</td>\n",
       "      <td>2020.000000</td>\n",
       "      <td>10.000000</td>\n",
       "      <td>23.000000</td>\n",
       "      <td>11.000000</td>\n",
       "      <td>-58.399650</td>\n",
       "      <td>-34.595143</td>\n",
       "    </tr>\n",
       "    <tr>\n",
       "      <th>max</th>\n",
       "      <td>3.000000</td>\n",
       "      <td>2021.000000</td>\n",
       "      <td>12.000000</td>\n",
       "      <td>31.000000</td>\n",
       "      <td>15.000000</td>\n",
       "      <td>0.000000</td>\n",
       "      <td>0.000000</td>\n",
       "    </tr>\n",
       "  </tbody>\n",
       "</table>\n",
       "</div>"
      ],
      "text/plain": [
       "       NUM_VICTIMAS          AÑO         MES         DÍA      COMUNA  \\\n",
       "count    694.000000   694.000000  694.000000  694.000000  694.000000   \n",
       "mean       1.030259  2018.194524    6.678674   15.917867    7.446686   \n",
       "std        0.179644     1.682067    3.566993    8.641515    4.375177   \n",
       "min        1.000000  2016.000000    1.000000    1.000000    1.000000   \n",
       "25%        1.000000  2017.000000    4.000000    9.000000    4.000000   \n",
       "50%        1.000000  2018.000000    7.000000   16.000000    8.000000   \n",
       "75%        1.000000  2020.000000   10.000000   23.000000   11.000000   \n",
       "max        3.000000  2021.000000   12.000000   31.000000   15.000000   \n",
       "\n",
       "            POS X       POS Y  \n",
       "count  694.000000  694.000000  \n",
       "mean   -57.599448  -34.120790  \n",
       "std      6.969679    4.128761  \n",
       "min    -58.529942  -34.705250  \n",
       "25%    -58.475701  -34.643537  \n",
       "50%    -58.443654  -34.622535  \n",
       "75%    -58.399650  -34.595143  \n",
       "max      0.000000    0.000000  "
      ]
     },
     "execution_count": 59,
     "metadata": {},
     "output_type": "execute_result"
    }
   ],
   "source": [
    "hechos.describe()\n",
    "# Se verifica que todas están bien, esto más concretamente con los cuartiles que maneja"
   ]
  },
  {
   "cell_type": "code",
   "execution_count": 61,
   "metadata": {},
   "outputs": [
    {
     "data": {
      "text/plain": [
       "<Axes: ylabel='AÑO'>"
      ]
     },
     "execution_count": 61,
     "metadata": {},
     "output_type": "execute_result"
    },
    {
     "data": {
      "image/png": "[encoded data removed]",
      "text/plain": [
       "<Figure size 640x480 with 1 Axes>"
      ]
     },
     "metadata": {},
     "output_type": "display_data"
    }
   ],
   "source": [
    "hechos.AÑO.value_counts().plot.barh()"
   ]
  },
  {
   "cell_type": "code",
   "execution_count": 62,
   "metadata": {},
   "outputs": [
    {
     "data": {
      "text/plain": [
       "<Axes: ylabel='MES'>"
      ]
     },
     "execution_count": 62,
     "metadata": {},
     "output_type": "execute_result"
    },
    {
     "data": {
      "image/png": "[encoded data removed]",
      "text/plain": [
       "<Figure size 640x480 with 1 Axes>"
      ]
     },
     "metadata": {},
     "output_type": "display_data"
    }
   ],
   "source": [
    "hechos.MES.value_counts().plot.barh()"
   ]
  },
  {
   "cell_type": "markdown",
   "metadata": {},
   "source": [
    "### Conclusiones\n",
    "- Se realizó la imputación de las coordanadas nuevas.\n",
    "- Se ha realizado una imputación en la columna 'ALTURA', los nulos (NaN) por 'Sin Altura'.\n",
    "- Se ha realizado una imputación en la columna 'CRUCE', los nulos (NaN) por 'Sin Cruce'.\n",
    "- Se ha realizado una imputación en la columna 'DIRECCION NORMALIZADA', los nulos (NaN) por 'Sin Direccion'.\n",
    "- Se elimina la columna XY (CABA) y se elimina el registro con la comuna 0 registro de ID de hecho '2016-0174'\n",
    "- Se verifica también en el DataFrame con ID del hecho '2016-0151', por no tener dato relevante para el análisis. Se buscará este mismo registro en el DataFrame siguiente."
   ]
  },
  {
   "cell_type": "markdown",
   "metadata": {},
   "source": [
    "### Importación de los datos"
   ]
  },
  {
   "cell_type": "code",
   "execution_count": 63,
   "metadata": {},
   "outputs": [],
   "source": [
    "hechos.to_csv('dataset_hechos_final.csv')"
   ]
  },
  {
   "cell_type": "markdown",
   "metadata": {},
   "source": [
    "Seguimientos al dataset\n",
    "- busqueda de valores faltantes - falta\n",
    "- valores atipicos - falta\n",
    "- valores extremos u outliers - falta\n",
    "- registros duplicados - falta"
   ]
  },
  {
   "cell_type": "markdown",
   "metadata": {},
   "source": [
    "Se puede realizar:\n",
    "- grafico de las variables categoricas para determinar valores atipicos\n",
    "- histogramas para variables numericas para determinar extremos y outliers\n",
    "- analisis para imputar los valores NaN\n",
    "- analizar si hay valores duplicados"
   ]
  },
  {
   "cell_type": "markdown",
   "metadata": {},
   "source": [
    "Igual con dataset - VICTIMAS"
   ]
  },
  {
   "cell_type": "markdown",
   "metadata": {},
   "source": [
    "## Dataset - VICTIMAS"
   ]
  },
  {
   "cell_type": "code",
   "execution_count": 2,
   "metadata": {},
   "outputs": [],
   "source": [
    "victimas=pd.read_csv('data/homicidios - VICTIMAS.csv')"
   ]
  },
  {
   "cell_type": "code",
   "execution_count": 22,
   "metadata": {},
   "outputs": [
    {
     "data": {
      "text/html": [
       "<div>\n",
       "<style scoped>\n",
       "    .dataframe tbody tr th:only-of-type {\n",
       "        vertical-align: middle;\n",
       "    }\n",
       "\n",
       "    .dataframe tbody tr th {\n",
       "        vertical-align: top;\n",
       "    }\n",
       "\n",
       "    .dataframe thead th {\n",
       "        text-align: right;\n",
       "    }\n",
       "</style>\n",
       "<table border=\"1\" class=\"dataframe\">\n",
       "  <thead>\n",
       "    <tr style=\"text-align: right;\">\n",
       "      <th></th>\n",
       "      <th>ID_HECHO</th>\n",
       "      <th>FECHA</th>\n",
       "      <th>AÑO</th>\n",
       "      <th>MES</th>\n",
       "      <th>DIA</th>\n",
       "      <th>ROL</th>\n",
       "      <th>VICTIMA</th>\n",
       "      <th>SEXO</th>\n",
       "      <th>EDAD</th>\n",
       "      <th>FECHA_FALLECIMIENTO</th>\n",
       "    </tr>\n",
       "  </thead>\n",
       "  <tbody>\n",
       "    <tr>\n",
       "      <th>0</th>\n",
       "      <td>2016-0001</td>\n",
       "      <td>1/1/2016</td>\n",
       "      <td>2016</td>\n",
       "      <td>1</td>\n",
       "      <td>1</td>\n",
       "      <td>CONDUCTOR</td>\n",
       "      <td>MOTO</td>\n",
       "      <td>MASCULINO</td>\n",
       "      <td>19</td>\n",
       "      <td>1/1/2016</td>\n",
       "    </tr>\n",
       "    <tr>\n",
       "      <th>1</th>\n",
       "      <td>2016-0002</td>\n",
       "      <td>1/2/2016</td>\n",
       "      <td>2016</td>\n",
       "      <td>1</td>\n",
       "      <td>2</td>\n",
       "      <td>CONDUCTOR</td>\n",
       "      <td>AUTO</td>\n",
       "      <td>MASCULINO</td>\n",
       "      <td>70</td>\n",
       "      <td>1/2/2016</td>\n",
       "    </tr>\n",
       "    <tr>\n",
       "      <th>2</th>\n",
       "      <td>2016-0003</td>\n",
       "      <td>1/3/2016</td>\n",
       "      <td>2016</td>\n",
       "      <td>1</td>\n",
       "      <td>3</td>\n",
       "      <td>CONDUCTOR</td>\n",
       "      <td>MOTO</td>\n",
       "      <td>MASCULINO</td>\n",
       "      <td>30</td>\n",
       "      <td>1/3/2016</td>\n",
       "    </tr>\n",
       "    <tr>\n",
       "      <th>3</th>\n",
       "      <td>2016-0004</td>\n",
       "      <td>1/10/2016</td>\n",
       "      <td>2016</td>\n",
       "      <td>1</td>\n",
       "      <td>10</td>\n",
       "      <td>CONDUCTOR</td>\n",
       "      <td>MOTO</td>\n",
       "      <td>MASCULINO</td>\n",
       "      <td>18</td>\n",
       "      <td>SD</td>\n",
       "    </tr>\n",
       "    <tr>\n",
       "      <th>4</th>\n",
       "      <td>2016-0005</td>\n",
       "      <td>1/21/2016</td>\n",
       "      <td>2016</td>\n",
       "      <td>1</td>\n",
       "      <td>21</td>\n",
       "      <td>CONDUCTOR</td>\n",
       "      <td>MOTO</td>\n",
       "      <td>MASCULINO</td>\n",
       "      <td>29</td>\n",
       "      <td>2/1/2016</td>\n",
       "    </tr>\n",
       "    <tr>\n",
       "      <th>5</th>\n",
       "      <td>2016-0008</td>\n",
       "      <td>1/24/2016</td>\n",
       "      <td>2016</td>\n",
       "      <td>1</td>\n",
       "      <td>24</td>\n",
       "      <td>CONDUCTOR</td>\n",
       "      <td>MOTO</td>\n",
       "      <td>MASCULINO</td>\n",
       "      <td>30</td>\n",
       "      <td>1/24/2016</td>\n",
       "    </tr>\n",
       "    <tr>\n",
       "      <th>6</th>\n",
       "      <td>2016-0009</td>\n",
       "      <td>1/24/2016</td>\n",
       "      <td>2016</td>\n",
       "      <td>1</td>\n",
       "      <td>24</td>\n",
       "      <td>PASAJERO_ACOMPAÑANTE</td>\n",
       "      <td>MOTO</td>\n",
       "      <td>MASCULINO</td>\n",
       "      <td>29</td>\n",
       "      <td>1/26/2016</td>\n",
       "    </tr>\n",
       "    <tr>\n",
       "      <th>7</th>\n",
       "      <td>2016-0010</td>\n",
       "      <td>1/29/2016</td>\n",
       "      <td>2016</td>\n",
       "      <td>1</td>\n",
       "      <td>29</td>\n",
       "      <td>CONDUCTOR</td>\n",
       "      <td>MOTO</td>\n",
       "      <td>MASCULINO</td>\n",
       "      <td>18</td>\n",
       "      <td>1/29/2016</td>\n",
       "    </tr>\n",
       "    <tr>\n",
       "      <th>8</th>\n",
       "      <td>2016-0012</td>\n",
       "      <td>2/8/2016</td>\n",
       "      <td>2016</td>\n",
       "      <td>2</td>\n",
       "      <td>8</td>\n",
       "      <td>CONDUCTOR</td>\n",
       "      <td>MOTO</td>\n",
       "      <td>MASCULINO</td>\n",
       "      <td>22</td>\n",
       "      <td>2/8/2016</td>\n",
       "    </tr>\n",
       "    <tr>\n",
       "      <th>9</th>\n",
       "      <td>2016-0013</td>\n",
       "      <td>2/10/2016</td>\n",
       "      <td>2016</td>\n",
       "      <td>2</td>\n",
       "      <td>10</td>\n",
       "      <td>PEATON</td>\n",
       "      <td>PEATON</td>\n",
       "      <td>MASCULINO</td>\n",
       "      <td>16</td>\n",
       "      <td>2/10/2016</td>\n",
       "    </tr>\n",
       "  </tbody>\n",
       "</table>\n",
       "</div>"
      ],
      "text/plain": [
       "    ID_HECHO      FECHA   AÑO  MES  DIA                   ROL VICTIMA  \\\n",
       "0  2016-0001   1/1/2016  2016    1    1             CONDUCTOR    MOTO   \n",
       "1  2016-0002   1/2/2016  2016    1    2             CONDUCTOR    AUTO   \n",
       "2  2016-0003   1/3/2016  2016    1    3             CONDUCTOR    MOTO   \n",
       "3  2016-0004  1/10/2016  2016    1   10             CONDUCTOR    MOTO   \n",
       "4  2016-0005  1/21/2016  2016    1   21             CONDUCTOR    MOTO   \n",
       "5  2016-0008  1/24/2016  2016    1   24             CONDUCTOR    MOTO   \n",
       "6  2016-0009  1/24/2016  2016    1   24  PASAJERO_ACOMPAÑANTE    MOTO   \n",
       "7  2016-0010  1/29/2016  2016    1   29             CONDUCTOR    MOTO   \n",
       "8  2016-0012   2/8/2016  2016    2    8             CONDUCTOR    MOTO   \n",
       "9  2016-0013  2/10/2016  2016    2   10                PEATON  PEATON   \n",
       "\n",
       "        SEXO EDAD FECHA_FALLECIMIENTO  \n",
       "0  MASCULINO   19            1/1/2016  \n",
       "1  MASCULINO   70            1/2/2016  \n",
       "2  MASCULINO   30            1/3/2016  \n",
       "3  MASCULINO   18                  SD  \n",
       "4  MASCULINO   29            2/1/2016  \n",
       "5  MASCULINO   30           1/24/2016  \n",
       "6  MASCULINO   29           1/26/2016  \n",
       "7  MASCULINO   18           1/29/2016  \n",
       "8  MASCULINO   22            2/8/2016  \n",
       "9  MASCULINO   16           2/10/2016  "
      ]
     },
     "execution_count": 22,
     "metadata": {},
     "output_type": "execute_result"
    }
   ],
   "source": [
    "victimas.head(10)"
   ]
  },
  {
   "cell_type": "code",
   "execution_count": 4,
   "metadata": {},
   "outputs": [],
   "source": [
    "# Cambiamos el nombre de las columnas\n",
    "victimas.columns=['ID_HECHO','FECHA','AÑO','MES','DIA','ROL',\n",
    "                  'VICTIMA','SEXO','EDAD','FECHA_FALLECIMIENTO']"
   ]
  },
  {
   "cell_type": "code",
   "execution_count": 5,
   "metadata": {},
   "outputs": [
    {
     "name": "stdout",
     "output_type": "stream",
     "text": [
      "<class 'pandas.core.frame.DataFrame'>\n",
      "RangeIndex: 717 entries, 0 to 716\n",
      "Data columns (total 10 columns):\n",
      " #   Column               Non-Null Count  Dtype \n",
      "---  ------               --------------  ----- \n",
      " 0   ID_HECHO             717 non-null    object\n",
      " 1   FECHA                717 non-null    object\n",
      " 2   AÑO                  717 non-null    int64 \n",
      " 3   MES                  717 non-null    int64 \n",
      " 4   DIA                  717 non-null    int64 \n",
      " 5   ROL                  717 non-null    object\n",
      " 6   VICTIMA              717 non-null    object\n",
      " 7   SEXO                 717 non-null    object\n",
      " 8   EDAD                 717 non-null    object\n",
      " 9   FECHA_FALLECIMIENTO  717 non-null    object\n",
      "dtypes: int64(3), object(7)\n",
      "memory usage: 56.1+ KB\n"
     ]
    }
   ],
   "source": [
    "victimas.info()"
   ]
  },
  {
   "cell_type": "code",
   "execution_count": 31,
   "metadata": {},
   "outputs": [
    {
     "data": {
      "text/plain": [
       "<Axes: >"
      ]
     },
     "execution_count": 31,
     "metadata": {},
     "output_type": "execute_result"
    },
    {
     "data": {
      "image/png": "[encoded data removed]",
      "text/plain": [
       "<Figure size 640x480 with 1 Axes>"
      ]
     },
     "metadata": {},
     "output_type": "display_data"
    }
   ],
   "source": [
    "# Se verifica los datos contenidos en la columna EDAD\n",
    "victimas['EDAD'].value_counts()\n",
    "\n",
    "condicion_edad= victimas['EDAD']!='SD'\n",
    "datos_edad=victimas[condicion_edad].EDAD.astype(int)\n",
    "datos_edad.plot.box()"
   ]
  },
  {
   "cell_type": "code",
   "execution_count": null,
   "metadata": {},
   "outputs": [],
   "source": [
    "# Se nota que hay 53 datos que no tienen datos, para trabajarlos realizaremos la imputación\n",
    "# Imputaremos por la mayor cantidad de "
   ]
  },
  {
   "cell_type": "code",
   "execution_count": 71,
   "metadata": {},
   "outputs": [
    {
     "data": {
      "text/html": [
       "<div>\n",
       "<style scoped>\n",
       "    .dataframe tbody tr th:only-of-type {\n",
       "        vertical-align: middle;\n",
       "    }\n",
       "\n",
       "    .dataframe tbody tr th {\n",
       "        vertical-align: top;\n",
       "    }\n",
       "\n",
       "    .dataframe thead th {\n",
       "        text-align: right;\n",
       "    }\n",
       "</style>\n",
       "<table border=\"1\" class=\"dataframe\">\n",
       "  <thead>\n",
       "    <tr style=\"text-align: right;\">\n",
       "      <th></th>\n",
       "      <th>AÑO</th>\n",
       "      <th>MES</th>\n",
       "      <th>DIA</th>\n",
       "    </tr>\n",
       "  </thead>\n",
       "  <tbody>\n",
       "    <tr>\n",
       "      <th>count</th>\n",
       "      <td>717.000000</td>\n",
       "      <td>717.000000</td>\n",
       "      <td>717.000000</td>\n",
       "    </tr>\n",
       "    <tr>\n",
       "      <th>mean</th>\n",
       "      <td>2018.174338</td>\n",
       "      <td>6.688982</td>\n",
       "      <td>15.960948</td>\n",
       "    </tr>\n",
       "    <tr>\n",
       "      <th>std</th>\n",
       "      <td>1.672655</td>\n",
       "      <td>3.575140</td>\n",
       "      <td>8.683358</td>\n",
       "    </tr>\n",
       "    <tr>\n",
       "      <th>min</th>\n",
       "      <td>2016.000000</td>\n",
       "      <td>1.000000</td>\n",
       "      <td>1.000000</td>\n",
       "    </tr>\n",
       "    <tr>\n",
       "      <th>25%</th>\n",
       "      <td>2017.000000</td>\n",
       "      <td>4.000000</td>\n",
       "      <td>9.000000</td>\n",
       "    </tr>\n",
       "    <tr>\n",
       "      <th>50%</th>\n",
       "      <td>2018.000000</td>\n",
       "      <td>7.000000</td>\n",
       "      <td>16.000000</td>\n",
       "    </tr>\n",
       "    <tr>\n",
       "      <th>75%</th>\n",
       "      <td>2019.000000</td>\n",
       "      <td>10.000000</td>\n",
       "      <td>23.000000</td>\n",
       "    </tr>\n",
       "    <tr>\n",
       "      <th>max</th>\n",
       "      <td>2021.000000</td>\n",
       "      <td>12.000000</td>\n",
       "      <td>31.000000</td>\n",
       "    </tr>\n",
       "  </tbody>\n",
       "</table>\n",
       "</div>"
      ],
      "text/plain": [
       "               AÑO         MES         DIA\n",
       "count   717.000000  717.000000  717.000000\n",
       "mean   2018.174338    6.688982   15.960948\n",
       "std       1.672655    3.575140    8.683358\n",
       "min    2016.000000    1.000000    1.000000\n",
       "25%    2017.000000    4.000000    9.000000\n",
       "50%    2018.000000    7.000000   16.000000\n",
       "75%    2019.000000   10.000000   23.000000\n",
       "max    2021.000000   12.000000   31.000000"
      ]
     },
     "execution_count": 71,
     "metadata": {},
     "output_type": "execute_result"
    }
   ],
   "source": [
    "victimas.describe()"
   ]
  },
  {
   "cell_type": "code",
   "execution_count": null,
   "metadata": {},
   "outputs": [],
   "source": []
  },
  {
   "cell_type": "code",
   "execution_count": 33,
   "metadata": {},
   "outputs": [
    {
     "data": {
      "text/html": [
       "<div>\n",
       "<style scoped>\n",
       "    .dataframe tbody tr th:only-of-type {\n",
       "        vertical-align: middle;\n",
       "    }\n",
       "\n",
       "    .dataframe tbody tr th {\n",
       "        vertical-align: top;\n",
       "    }\n",
       "\n",
       "    .dataframe thead th {\n",
       "        text-align: right;\n",
       "    }\n",
       "</style>\n",
       "<table border=\"1\" class=\"dataframe\">\n",
       "  <thead>\n",
       "    <tr style=\"text-align: right;\">\n",
       "      <th></th>\n",
       "      <th>ID_hecho</th>\n",
       "      <th>FECHA</th>\n",
       "      <th>AAAA</th>\n",
       "      <th>MM</th>\n",
       "      <th>DD</th>\n",
       "      <th>ROL</th>\n",
       "      <th>VICTIMA</th>\n",
       "      <th>SEXO</th>\n",
       "      <th>EDAD</th>\n",
       "      <th>FECHA_FALLECIMIENTO</th>\n",
       "    </tr>\n",
       "  </thead>\n",
       "  <tbody>\n",
       "    <tr>\n",
       "      <th>141</th>\n",
       "      <td>2016-0174</td>\n",
       "      <td>12/27/2016</td>\n",
       "      <td>2016</td>\n",
       "      <td>12</td>\n",
       "      <td>27</td>\n",
       "      <td>SD</td>\n",
       "      <td>SD</td>\n",
       "      <td>SD</td>\n",
       "      <td>SD</td>\n",
       "      <td>SD</td>\n",
       "    </tr>\n",
       "  </tbody>\n",
       "</table>\n",
       "</div>"
      ],
      "text/plain": [
       "      ID_hecho       FECHA  AAAA  MM  DD ROL VICTIMA SEXO EDAD  \\\n",
       "141  2016-0174  12/27/2016  2016  12  27  SD      SD   SD   SD   \n",
       "\n",
       "    FECHA_FALLECIMIENTO  \n",
       "141                  SD  "
      ]
     },
     "execution_count": 33,
     "metadata": {},
     "output_type": "execute_result"
    }
   ],
   "source": [
    "condicion_1 = victimas['ID_hecho'] == '2016-0151'\n",
    "condicion_2 = victimas['ID_hecho'] == '2016-0174'\n",
    "victimas[condicion_1]\n",
    "victimas[condicion_2]"
   ]
  },
  {
   "cell_type": "code",
   "execution_count": null,
   "metadata": {},
   "outputs": [
    {
     "data": {
      "text/plain": [
       "<Axes: >"
      ]
     },
     "execution_count": 36,
     "metadata": {},
     "output_type": "execute_result"
    },
    {
     "data": {
      "image/png": "[encoded data removed]",
      "text/plain": [
       "<Figure size 640x480 with 1 Axes>"
      ]
     },
     "metadata": {},
     "output_type": "display_data"
    }
   ],
   "source": [
    "victimas.EDAD.hist()\n",
    "plt.figimage(figsize=(20,20))"
   ]
  }
 ],
 "metadata": {
  "kernelspec": {
   "display_name": "Data_Analyst",
   "language": "python",
   "name": "python3"
  },
  "language_info": {
   "codemirror_mode": {
    "name": "ipython",
    "version": 3
   },
   "file_extension": ".py",
   "mimetype": "text/x-python",
   "name": "python",
   "nbconvert_exporter": "python",
   "pygments_lexer": "ipython3",
   "version": "3.12.2"
  }
 },
 "nbformat": 4,
 "nbformat_minor": 2
}
